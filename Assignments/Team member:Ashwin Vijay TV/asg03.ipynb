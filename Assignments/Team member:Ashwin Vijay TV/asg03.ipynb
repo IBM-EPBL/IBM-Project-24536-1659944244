{
  nbformat 4,
  nbformat_minor 0,
  metadata {
    colab {
      provenance []
    },
    kernelspec {
      name python3,
      display_name Python 3
    },
    language_info {
      name python
    }
  },
  cells [
    {
      cell_type code,
      source [
        from google.colab import driven,
        drive.mount('contentdrive')
      ],
      metadata {
        id nSd3mjur-PwZ,
        colab {
          base_uri httpslocalhost8080
        },
        outputId 67c0c549-5da0-4d96-f1fa-dfc4ad5e1700
      },
      execution_count 1,
      outputs [
        {
          output_type stream,
          name stdout,
          text [
            Mounted at contentdriven
          ]
        }
      ]
    },
    {
      cell_type code,
      source [
        cd contentdriveMyDriveIbm
      ],
      metadata {
        id -TCEaLSXBFfv,
        colab {
          base_uri httpslocalhost8080
        },
        outputId 4c3a47ce-c6c7-4f13-9bb2-84e52e3c026b
      },
      execution_count 2,
      outputs [
        {
          output_type stream,
          name stdout,
          text [
            contentdriveMyDriveIbmn
          ]
        }
      ]
    },
    {
      cell_type code,
      source [
        ls
      ],
      metadata {
        id XLSAUrQTBTEl,
        colab {
          base_uri httpslocalhost8080
        },
        outputId e7f98ece-9b34-44a5-ba20-5bb58deea504
      },
      execution_count 3,
      outputs [
        {
          output_type stream,
          name stdout,
          text [
            u001b[0mu001b[01;34mflowersu001b[0m  u001b[01;34mFlowers-Datasetu001b[0mn
          ]
        }
      ]
    },
    {
      cell_type code,
      execution_count 4,
      metadata {
        id UaWqeFnL2ioV
      },
      outputs [],
      source [
        import tensorflow as tfn,
        import keras_preprocessingn,
        from keras_preprocessing import imagen,
        from keras_preprocessing.image import ImageDataGenerator
      ]
    },
    {
      cell_type markdown,
      source [
        Image augmentation
      ],
      metadata {
        id NvU5nN4o-U7J
      }
    },
    {
      cell_type code,
      source [
        training_datagen = ImageDataGenerator(n,
              rescale = 1.255,n,
        t    rotation_range=40,n,
              width_shift_range=0.2,n,
              height_shift_range=0.2,n,
              shear_range=0.2,n,
              zoom_range=0.2,n,
              horizontal_flip=True,n,
              fill_mode='nearest')
      ],
      metadata {
        id chQb_Kg7-QVu
      },
      execution_count 5,
      outputs []
    },
    {
      cell_type code,
      source [
        train_generator = training_datagen.flow_from_directory(n,
        trcontentdriveMyDriveIbmflowers,n,
        ttarget_size=(64,64),n,
        tclass_mode='categorical',n,
          batch_size=30)
      ],
      metadata {
        id rupL_V-C-Xz0,
        colab {
          base_uri httpslocalhost8080
        },
        outputId 2102ab25-d76e-40c1-a3de-b7c52ee8b2c6
      },
      execution_count 6,
      outputs [
        {
          output_type stream,
          name stdout,
          text [
            Found 4327 images belonging to 5 classes.n
          ]
        }
      ]
    },
    {
      cell_type markdown,
      source [
        Create model and add layers
      ],
      metadata {
        id f8co3Jjf_C1k
      }
    },
    {
      cell_type code,
      source [
        model = tf.keras.models.Sequential([n,
            tf.keras.layers.Conv2D(64, (3,3), activation='relu',input_shape=(64,64,3)),n,
            tf.keras.layers.MaxPooling2D(2, 2),n,
            tf.keras.layers.Conv2D(64, (3,3), activation='relu'),n,
            tf.keras.layers.MaxPooling2D(2,2),n,
            tf.keras.layers.Flatten(),n,
            tf.keras.layers.Dropout(0.5),n,
            tf.keras.layers.Dense(512, activation='relu'),n,
            tf.keras.layers.Dense(5, activation='softmax')n,
        ])
      ],
      metadata {
        id 2OCUbIIJ_CJc
      },
      execution_count 7,
      outputs []
    },
    {
      cell_type markdown,
      source [
        Compiling and fitting model
      ],
      metadata {
        id iBtG6hiP_I1v
      }
    },
    {
      cell_type code,
      source [
        model.compile(loss = 'categorical_crossentropy', optimizer='adam', metrics=['accuracy'])n,
        history = model.fit(train_generator, epochs=25, steps_per_epoch=5, verbose = 1, validation_steps=3)
      ],
      metadata {
        id 1kz6nIMh-X2Y,
        colab {
          base_uri httpslocalhost8080
        },
        outputId 3d4d5ab0-5962-4218-ab9c-0257ffa33551
      },
      execution_count 9,
      outputs [
        {
          output_type stream,
          name stdout,
          text [
            Epoch 125n,
            55 [==============================] - 9s 2sstep - loss 1.5446 - accuracy 0.3867n,
            Epoch 225n,
            55 [==============================] - 9s 2sstep - loss 1.3645 - accuracy 0.4267n,
            Epoch 325n,
            55 [==============================] - 9s 2sstep - loss 1.2215 - accuracy 0.4800n,
            Epoch 425n,
            55 [==============================] - 9s 2sstep - loss 1.1867 - accuracy 0.4467n,
            Epoch 525n,
            55 [==============================] - 9s 2sstep - loss 1.3113 - accuracy 0.4333n,
            Epoch 625n,
            55 [==============================] - 10s 2sstep - loss 1.1852 - accuracy 0.5267n,
            Epoch 725n,
            55 [==============================] - 9s 2sstep - loss 1.2911 - accuracy 0.4867n,
            Epoch 825n,
            55 [==============================] - 8s 2sstep - loss 1.2384 - accuracy 0.4733n,
            Epoch 925n,
            55 [==============================] - 6s 1sstep - loss 1.1748 - accuracy 0.5512n,
            Epoch 1025n,
            55 [==============================] - 8s 1sstep - loss 1.2802 - accuracy 0.5067n,
            Epoch 1125n,
            55 [==============================] - 9s 2sstep - loss 1.1944 - accuracy 0.4667n,
            Epoch 1225n,
            55 [==============================] - 7s 1sstep - loss 1.1823 - accuracy 0.4667n,
            Epoch 1325n,
            55 [==============================] - 9s 2sstep - loss 1.1319 - accuracy 0.5933n,
            Epoch 1425n,
            55 [==============================] - 7s 1sstep - loss 1.1348 - accuracy 0.5533n,
            Epoch 1525n,
            55 [==============================] - 6s 1sstep - loss 1.1012 - accuracy 0.5533n,
            Epoch 1625n,
            55 [==============================] - 6s 1sstep - loss 1.1872 - accuracy 0.4933n,
            Epoch 1725n,
            55 [==============================] - 4s 832msstep - loss 1.1422 - accuracy 0.5533n,
            Epoch 1825n,
            55 [==============================] - 7s 1sstep - loss 1.1613 - accuracy 0.5067n,
            Epoch 1925n,
            55 [==============================] - 5s 941msstep - loss 1.0420 - accuracy 0.5600n,
            Epoch 2025n,
            55 [==============================] - 5s 925msstep - loss 1.1053 - accuracy 0.5267n,
            Epoch 2125n,
            55 [==============================] - 6s 1sstep - loss 1.0787 - accuracy 0.5333n,
            Epoch 2225n,
            55 [==============================] - 6s 975msstep - loss 1.0754 - accuracy 0.5667n,
            Epoch 2325n,
            55 [==============================] - 4s 625msstep - loss 1.0402 - accuracy 0.5591n,
            Epoch 2425n,
            55 [==============================] - 5s 851msstep - loss 1.2407 - accuracy 0.5333n,
            Epoch 2525n,
            55 [==============================] - 5s 987msstep - loss 1.1575 - accuracy 0.5800n
          ]
        }
      ]
    },
    {
      cell_type markdown,
      source [
        Saving the model
      ],
      metadata {
        id iFQBc0Ge_XDg
      }
    },
    {
      cell_type code,
      source [
        cd contentdriveMyDriveIbm
      ],
      metadata {
        id vZAwWfFX_SRs,
        colab {
          base_uri httpslocalhost8080
        },
        outputId ed559b71-1c79-45f0-c4e0-c886ecdeec67
      },
      execution_count 10,
      outputs [
        {
          output_type stream,
          name stdout,
          text [
            contentdriveMyDriveIbmn
          ]
        }
      ]
    },
    {
      cell_type code,
      source [
        model.save(flower_model.h5)
      ],
      metadata {
        id kTc4PquO_a5M
      },
      execution_count 11,
      outputs []
    },
    {
      cell_type code,
      source [
        ls
      ],
      metadata {
        id GCr9ZcKE_ici,
        colab {
          base_uri httpslocalhost8080
        },
        outputId bd517e2c-7f10-4684-acc3-122bbc596a21
      },
      execution_count 12,
      outputs [
        {
          output_type stream,
          name stdout,
          text [
            flower_model.h5  u001b[0mu001b[01;34mflowersu001b[0m  u001b[01;34mFlowers-Datasetu001b[0mn
          ]
        }
      ]
    },
    {
      cell_type markdown,
      source [
        Testing the model
      ],
      metadata {
        id 1iadaNJG_TKP
      }
    },
    {
      cell_type code,
      source [
        from keras.models import load_modeln,
        from keras.preprocessing import imagen,
        import numpy as np
      ],
      metadata {
        id p-DFV-S5-X52
      },
      execution_count 13,
      outputs []
    },
    {
      cell_type code,
      source [
        models=load_model(contentdriveMyDriveIbmflower_model.h5)
      ],
      metadata {
        id lgyhh1XG-QZL
      },
      execution_count 14,
      outputs []
    },
    {
      cell_type code,
      source [
        img=image.load_img(contentsunflower.jpg,target_size=(64,64))
      ],
      metadata {
        id Mwbx__xr_quP
      },
      execution_count 15,
      outputs []
    },
    {
      cell_type code,
      source [
        img
      ],
      metadata {
        id X9J01ZBC_qx0,
        colab {
          base_uri httpslocalhost8080,
          height 81
        },
        outputId 7c65d772-9456-4ef3-f9b5-159c58bc4b01
      },
      execution_count 16,
      outputs [
        {
          output_type execute_result,
          data {
            textplain [
              PIL.Image.Image image mode=RGB size=64x64 at 0x7FEC3B9DEE10
            ],
            imagepng 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
          },
          metadata {},
          execution_count 16
        }
      ]
    },
    {
      cell_type code,
      source [
        x=image.img_to_array(img)n,
        x=np.expand_dims(x,axis=0)n,
        pred=models.predict(x)
      ],
      metadata {
        id 9gIikx9R_xjB
      },
      execution_count 17,
      outputs []
    },
    {
      cell_type code,
      source [
        pred
      ],
      metadata {
        id WkE19Nqx_xlO,
        colab {
          base_uri httpslocalhost8080
        },
        outputId 054f81a0-1cbf-4332-aa55-415520d7a678
      },
      execution_count 18,
      outputs [
        {
          output_type execute_result,
          data {
            textplain [
              array([[0., 0., 0., 1., 0.]], dtype=float32)
            ]
          },
          metadata {},
          execution_count 18
        }
      ]
    },
    {
      cell_type code,
      source [
        labels=[daisy, dandelion,rose,sunflower,tulip]n,
        y=np.argmax(pred)
      ],
      metadata {
        id uh9dUIka_xnk
      },
      execution_count 19,
      outputs []
    },
    {
      cell_type code,
      source [
        print(y)n,
        print(labels[y])
      ],
      metadata {
        id ZyQwku8g_xq-,
        colab {
          base_uri httpslocalhost8080
        },
        outputId 2d88a379-5bf2-410c-84d3-6852905fc3a4
      },
      execution_count 20,
      outputs [
        {
          output_type stream,
          name stdout,
          text [
            3n,
            sunflowern
          ]
        }
      ]
    }
  ]
}